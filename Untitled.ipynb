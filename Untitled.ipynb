{
 "cells": [
  {
   "cell_type": "code",
   "execution_count": 20,
   "metadata": {},
   "outputs": [],
   "source": [
    "import pandas as pd\n",
    "import geopandas as gpd\n",
    "pd.options.display.max_rows = 200"
   ]
  },
  {
   "cell_type": "code",
   "execution_count": 7,
   "metadata": {},
   "outputs": [
    {
     "data": {
      "text/plain": [
       "(26815, 15)"
      ]
     },
     "execution_count": 7,
     "metadata": {},
     "output_type": "execute_result"
    }
   ],
   "source": [
    "radios_eph = gpd.read_file('./radios_eph_json/radios_eph.json')\n",
    "radios_eph['eph_aglome'] = radios_eph['eph_aglome'].str.replace('San Nicolas - Villa Constitiución', 'San Nicolas - Villa Constitución')\n",
    "radios_eph.shape"
   ]
  },
  {
   "cell_type": "code",
   "execution_count": 14,
   "metadata": {},
   "outputs": [
    {
     "data": {
      "text/plain": [
       "the_geom          0\n",
       "tiporad           4\n",
       "codprov          24\n",
       "nomprov          24\n",
       "radio2010        31\n",
       "eph_codagl       32\n",
       "eph_aglome       33\n",
       "aglomerado       51\n",
       "codaglo          52\n",
       "coddepto         64\n",
       "frac2010         99\n",
       "localidade      226\n",
       "entidades       540\n",
       "geometry      26414\n",
       "id            26815\n",
       "dtype: int64"
      ]
     },
     "execution_count": 14,
     "metadata": {},
     "output_type": "execute_result"
    }
   ],
   "source": [
    "radios_eph.nunique().sort_values()"
   ]
  },
  {
   "cell_type": "code",
   "execution_count": 61,
   "metadata": {},
   "outputs": [
    {
     "data": {
      "text/plain": [
       "(727, 12)"
      ]
     },
     "execution_count": 61,
     "metadata": {},
     "output_type": "execute_result"
    }
   ],
   "source": [
    "entidades_eph = gpd.read_file('./entidades_eph_json/entidades_eph.json')\n",
    "entidades_eph['eph_aglome'] = entidades_eph['eph_aglome'].str.replace('San Nicolas - Villa Constitiución', 'San Nicolas - Villa Constitución')\n",
    "entidades_eph.shape"
   ]
  },
  {
   "cell_type": "code",
   "execution_count": 62,
   "metadata": {},
   "outputs": [
    {
     "data": {
      "text/plain": [
       "the_geom        0\n",
       "codprov        24\n",
       "nomprov        24\n",
       "eph_codagl     32\n",
       "eph_aglome     32\n",
       "aglomerado     51\n",
       "codaglo        52\n",
       "coddepto       64\n",
       "localidade    226\n",
       "entidades     540\n",
       "geometry      719\n",
       "id            727\n",
       "dtype: int64"
      ]
     },
     "execution_count": 62,
     "metadata": {},
     "output_type": "execute_result"
    }
   ],
   "source": [
    "entidades_eph.nunique().sort_values()"
   ]
  },
  {
   "cell_type": "code",
   "execution_count": 53,
   "metadata": {},
   "outputs": [],
   "source": [
    "aglomerados_eph = gpd.read_file('./aglomerados_eph_json/aglomerados_eph.json')\n",
    "aglomerados_eph['eph_aglome'] = aglomerados_eph['eph_aglome'].str.replace('San Nicolas - Villa Constitiución', 'San Nicolas - Villa Constitución')\n",
    "aglomerados_eph.shape\n",
    "\n",
    "aglomerados_eph = aglomerados_eph.dropna(subset = ['geometry']).dissolve(['eph_codagl', 'eph_aglome'])['geometry'].reset_index()"
   ]
  },
  {
   "cell_type": "code",
   "execution_count": 60,
   "metadata": {},
   "outputs": [
    {
     "name": "stderr",
     "output_type": "stream",
     "text": [
      "/home/miglesia/anaconda3/lib/python3.8/site-packages/geopandas/io/file.py:234: FutureWarning: pandas.Int64Index is deprecated and will be removed from pandas in a future version. Use pandas.Index with the appropriate dtype instead.\n",
      "  pd.Int64Index,\n"
     ]
    }
   ],
   "source": [
    "aglomerados_eph_4326 = aglomerados_eph.to_crs(4326)\n",
    "aglomerados_eph_4326.to_file('./geojson/aglomerados_eph.geojson', driver = 'GeoJSON')\n"
   ]
  },
  {
   "cell_type": "code",
   "execution_count": 24,
   "metadata": {},
   "outputs": [
    {
     "data": {
      "text/plain": [
       "the_geom       0\n",
       "entidades     19\n",
       "codprov       24\n",
       "nomprov       24\n",
       "eph_codagl    32\n",
       "eph_aglome    32\n",
       "coddepto      39\n",
       "aglomerado    51\n",
       "codaglo       52\n",
       "geometry      78\n",
       "localidade    80\n",
       "id            81\n",
       "dtype: int64"
      ]
     },
     "execution_count": 24,
     "metadata": {},
     "output_type": "execute_result"
    }
   ],
   "source": [
    "aglomerados_eph.nunique().sort_values()"
   ]
  },
  {
   "cell_type": "code",
   "execution_count": 65,
   "metadata": {},
   "outputs": [],
   "source": [
    "## Listado de Aglomerados\n",
    "# aglomerados_eph[['eph_codagl', 'eph_aglome', 'codaglo', 'aglomerado']].drop_duplicates()"
   ]
  },
  {
   "cell_type": "code",
   "execution_count": null,
   "metadata": {},
   "outputs": [],
   "source": [
    "## Spatial join, radios en AGLOS"
   ]
  },
  {
   "cell_type": "code",
   "execution_count": 69,
   "metadata": {},
   "outputs": [],
   "source": [
    "radios_2010_CONICET = gpd.read_file('./../../repositories/IGN_INDEC_georef/censos_shp_CONICET/2010_RADIOS ARGENTINA/')\n",
    "radios_2010_CONICET = radios_2010_CONICET[['COD_2010', 'PROV_', 'DEPTO_', 'FRACC_', 'RADIO_', 'geometry']]\n",
    "radios_2010_CONICET = radios_2010_CONICET.to_crs(4326)"
   ]
  },
  {
   "cell_type": "code",
   "execution_count": 94,
   "metadata": {
    "scrolled": false
   },
   "outputs": [
    {
     "name": "stderr",
     "output_type": "stream",
     "text": [
      "<ipython-input-94-387b86d9c8e1>:7: UserWarning: Geometry is in a geographic CRS. Results from 'area' are likely incorrect. Use 'GeoSeries.to_crs()' to re-project geometries to a projected CRS before this operation.\n",
      "\n",
      "  inters['area'] = inters.area # En epsg 4326 pero no importa.\n"
     ]
    }
   ],
   "source": [
    "# radios_2010_CONICET.head(100)\n",
    "\n",
    "df1 = aglomerados_eph_4326\n",
    "df2 = radios_2010_CONICET\n",
    "\n",
    "inters = gpd.overlay(df1, df2, how='intersection')\n",
    "inters['area'] = inters.area # En epsg 4326 pero no importa.\n",
    "\n",
    "# Quedarse con el que mas interseca (el radio se asigna al depto donde este mayor parte de su area.)\n",
    "radios_in_aglo = inters.groupby(['PROV_', 'DEPTO_', 'COD_2010']).apply(lambda x: x.nlargest(1, 'area')).reset_index(drop = True)[['PROV_', 'DEPTO_', 'COD_2010', 'eph_codagl', 'eph_aglome']]"
   ]
  },
  {
   "cell_type": "code",
   "execution_count": 95,
   "metadata": {
    "scrolled": false
   },
   "outputs": [],
   "source": [
    "radios_in_aglo.to_csv('./result/radios_aglo_EPH.csv', index = False)"
   ]
  },
  {
   "cell_type": "code",
   "execution_count": 96,
   "metadata": {},
   "outputs": [
    {
     "data": {
      "text/plain": [
       "PROV_            24\n",
       "DEPTO_           76\n",
       "COD_2010      26418\n",
       "eph_codagl       32\n",
       "eph_aglome       32\n",
       "dtype: int64"
      ]
     },
     "execution_count": 96,
     "metadata": {},
     "output_type": "execute_result"
    }
   ],
   "source": [
    "radios_in_aglo.nunique()"
   ]
  },
  {
   "cell_type": "code",
   "execution_count": 99,
   "metadata": {},
   "outputs": [
    {
     "name": "stderr",
     "output_type": "stream",
     "text": [
      "/home/miglesia/anaconda3/lib/python3.8/site-packages/geopandas/io/file.py:234: FutureWarning: pandas.Int64Index is deprecated and will be removed from pandas in a future version. Use pandas.Index with the appropriate dtype instead.\n",
      "  pd.Int64Index,\n"
     ]
    }
   ],
   "source": [
    "radios_aglo_gpd = radios_in_aglo.merge(radios_2010_CONICET, how = 'left')\n",
    "radios_aglo_gpd = gpd.GeoDataFrame(radios_aglo_gpd)\n",
    "\n",
    "radios_aglo_gpd.to_file('./geojson/radios_aglo.geojson', driver = 'GeoJSON')"
   ]
  },
  {
   "cell_type": "code",
   "execution_count": 101,
   "metadata": {},
   "outputs": [
    {
     "data": {
      "text/html": [
       "<div>\n",
       "<style scoped>\n",
       "    .dataframe tbody tr th:only-of-type {\n",
       "        vertical-align: middle;\n",
       "    }\n",
       "\n",
       "    .dataframe tbody tr th {\n",
       "        vertical-align: top;\n",
       "    }\n",
       "\n",
       "    .dataframe thead th {\n",
       "        text-align: right;\n",
       "    }\n",
       "</style>\n",
       "<table border=\"1\" class=\"dataframe\">\n",
       "  <thead>\n",
       "    <tr style=\"text-align: right;\">\n",
       "      <th></th>\n",
       "      <th>PROV_</th>\n",
       "      <th>DEPTO_</th>\n",
       "      <th>COD_2010</th>\n",
       "      <th>eph_codagl</th>\n",
       "      <th>eph_aglome</th>\n",
       "      <th>FRACC_</th>\n",
       "      <th>RADIO_</th>\n",
       "      <th>geometry</th>\n",
       "    </tr>\n",
       "  </thead>\n",
       "  <tbody>\n",
       "    <tr>\n",
       "      <th>0</th>\n",
       "      <td>02</td>\n",
       "      <td>001</td>\n",
       "      <td>020010101</td>\n",
       "      <td>32</td>\n",
       "      <td>CABA</td>\n",
       "      <td>01</td>\n",
       "      <td>01</td>\n",
       "      <td>POLYGON ((-58.37430 -34.57870, -58.36801 -34.5...</td>\n",
       "    </tr>\n",
       "    <tr>\n",
       "      <th>1</th>\n",
       "      <td>02</td>\n",
       "      <td>001</td>\n",
       "      <td>020010201</td>\n",
       "      <td>32</td>\n",
       "      <td>CABA</td>\n",
       "      <td>02</td>\n",
       "      <td>01</td>\n",
       "      <td>POLYGON ((-58.38920 -34.57818, -58.38893 -34.5...</td>\n",
       "    </tr>\n",
       "    <tr>\n",
       "      <th>2</th>\n",
       "      <td>02</td>\n",
       "      <td>001</td>\n",
       "      <td>020010202</td>\n",
       "      <td>32</td>\n",
       "      <td>CABA</td>\n",
       "      <td>02</td>\n",
       "      <td>02</td>\n",
       "      <td>POLYGON ((-58.38909 -34.57855, -58.38890 -34.5...</td>\n",
       "    </tr>\n",
       "    <tr>\n",
       "      <th>3</th>\n",
       "      <td>02</td>\n",
       "      <td>001</td>\n",
       "      <td>020010203</td>\n",
       "      <td>32</td>\n",
       "      <td>CABA</td>\n",
       "      <td>02</td>\n",
       "      <td>03</td>\n",
       "      <td>POLYGON ((-58.38603 -34.57947, -58.38579 -34.5...</td>\n",
       "    </tr>\n",
       "    <tr>\n",
       "      <th>4</th>\n",
       "      <td>02</td>\n",
       "      <td>001</td>\n",
       "      <td>020010204</td>\n",
       "      <td>32</td>\n",
       "      <td>CABA</td>\n",
       "      <td>02</td>\n",
       "      <td>04</td>\n",
       "      <td>POLYGON ((-58.38562 -34.57822, -58.38551 -34.5...</td>\n",
       "    </tr>\n",
       "  </tbody>\n",
       "</table>\n",
       "</div>"
      ],
      "text/plain": [
       "  PROV_ DEPTO_   COD_2010 eph_codagl eph_aglome FRACC_ RADIO_  \\\n",
       "0    02    001  020010101         32       CABA     01     01   \n",
       "1    02    001  020010201         32       CABA     02     01   \n",
       "2    02    001  020010202         32       CABA     02     02   \n",
       "3    02    001  020010203         32       CABA     02     03   \n",
       "4    02    001  020010204         32       CABA     02     04   \n",
       "\n",
       "                                            geometry  \n",
       "0  POLYGON ((-58.37430 -34.57870, -58.36801 -34.5...  \n",
       "1  POLYGON ((-58.38920 -34.57818, -58.38893 -34.5...  \n",
       "2  POLYGON ((-58.38909 -34.57855, -58.38890 -34.5...  \n",
       "3  POLYGON ((-58.38603 -34.57947, -58.38579 -34.5...  \n",
       "4  POLYGON ((-58.38562 -34.57822, -58.38551 -34.5...  "
      ]
     },
     "execution_count": 101,
     "metadata": {},
     "output_type": "execute_result"
    }
   ],
   "source": [
    "radios_aglo_gpd.head()"
   ]
  },
  {
   "cell_type": "code",
   "execution_count": null,
   "metadata": {},
   "outputs": [],
   "source": []
  }
 ],
 "metadata": {
  "kernelspec": {
   "display_name": "Python 3",
   "language": "python",
   "name": "python3"
  },
  "language_info": {
   "codemirror_mode": {
    "name": "ipython",
    "version": 3
   },
   "file_extension": ".py",
   "mimetype": "text/x-python",
   "name": "python",
   "nbconvert_exporter": "python",
   "pygments_lexer": "ipython3",
   "version": "3.8.5"
  }
 },
 "nbformat": 4,
 "nbformat_minor": 4
}
